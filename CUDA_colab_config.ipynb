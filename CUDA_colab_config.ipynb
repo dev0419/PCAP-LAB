{
  "nbformat": 4,
  "nbformat_minor": 0,
  "metadata": {
    "colab": {
      "provenance": [],
      "gpuType": "T4"
    },
    "kernelspec": {
      "name": "python3",
      "display_name": "Python 3"
    },
    "language_info": {
      "name": "python"
    },
    "accelerator": "GPU"
  },
  "cells": [
    {
      "cell_type": "code",
      "execution_count": null,
      "metadata": {
        "colab": {
          "base_uri": "https://localhost:8080/"
        },
        "id": "C3vx9-eipUhm",
        "outputId": "09fd49c1-635e-47ef-8571-b2ffecdc919e"
      },
      "outputs": [
        {
          "output_type": "stream",
          "name": "stdout",
          "text": [
            "/content\n"
          ]
        }
      ],
      "source": [
        "!pwd"
      ]
    },
    {
      "cell_type": "code",
      "source": [
        "!nvcc --version"
      ],
      "metadata": {
        "colab": {
          "base_uri": "https://localhost:8080/"
        },
        "id": "_7f9diZHpurm",
        "outputId": "d1ec8749-f38c-45eb-beca-dd53ceb6ccc1"
      },
      "execution_count": null,
      "outputs": [
        {
          "output_type": "stream",
          "name": "stdout",
          "text": [
            "nvcc: NVIDIA (R) Cuda compiler driver\n",
            "Copyright (c) 2005-2022 NVIDIA Corporation\n",
            "Built on Wed_Sep_21_10:33:58_PDT_2022\n",
            "Cuda compilation tools, release 11.8, V11.8.89\n",
            "Build cuda_11.8.r11.8/compiler.31833905_0\n"
          ]
        }
      ]
    },
    {
      "cell_type": "code",
      "source": [
        "!pip install git+https://github.com/andreinechaev/nvcc4jupyter.git\n",
        "\n"
      ],
      "metadata": {
        "colab": {
          "base_uri": "https://localhost:8080/"
        },
        "id": "DvA_VfFKp0_F",
        "outputId": "4037a68e-2e22-43cc-dece-8588187410b9"
      },
      "execution_count": null,
      "outputs": [
        {
          "output_type": "stream",
          "name": "stdout",
          "text": [
            "Collecting git+https://github.com/andreinechaev/nvcc4jupyter.git\n",
            "  Cloning https://github.com/andreinechaev/nvcc4jupyter.git to /tmp/pip-req-build-3_k64i3p\n",
            "  Running command git clone --filter=blob:none --quiet https://github.com/andreinechaev/nvcc4jupyter.git /tmp/pip-req-build-3_k64i3p\n",
            "  Resolved https://github.com/andreinechaev/nvcc4jupyter.git to commit 0a71d56e5dce3ff1f0dd2c47c29367629262f527\n",
            "  Preparing metadata (setup.py) ... \u001b[?25l\u001b[?25hdone\n",
            "Building wheels for collected packages: NVCCPlugin\n",
            "  Building wheel for NVCCPlugin (setup.py) ... \u001b[?25l\u001b[?25hdone\n",
            "  Created wheel for NVCCPlugin: filename=NVCCPlugin-0.0.2-py3-none-any.whl size=4295 sha256=d850eac3db11af1c1825016028decab4db65db2ed3d91a78521c579da1c0f862\n",
            "  Stored in directory: /tmp/pip-ephem-wheel-cache-ezikw0fc/wheels/a8/b9/18/23f8ef71ceb0f63297dd1903aedd067e6243a68ea756d6feea\n",
            "Successfully built NVCCPlugin\n",
            "Installing collected packages: NVCCPlugin\n",
            "Successfully installed NVCCPlugin-0.0.2\n"
          ]
        }
      ]
    },
    {
      "cell_type": "code",
      "source": [
        "%load_ext nvcc_plugin"
      ],
      "metadata": {
        "colab": {
          "base_uri": "https://localhost:8080/"
        },
        "id": "Oem5z03OrLxw",
        "outputId": "889aa6dc-4e36-4abf-ccf4-6d2ccf67ef2b"
      },
      "execution_count": null,
      "outputs": [
        {
          "output_type": "stream",
          "name": "stdout",
          "text": [
            "created output directory at /content/src\n",
            "Out bin /content/result.out\n"
          ]
        }
      ]
    },
    {
      "cell_type": "code",
      "source": [
        "%%cuda --name prg1.cu\n",
        "#include <stdio.h>\n",
        "#include <stdlib.h>\n",
        "#include <math.h>\n",
        "#include \"cuda_runtime.h\"\n",
        "\n",
        "__global__ void convolutionKernel(int* N, int* M, int* P, int width, int mask_width) {\n",
        "    int pval = 0;\n",
        "    int i = blockDim.x * blockIdx.x + threadIdx.x;\n",
        "    int start = i - (mask_width / 2);\n",
        "    for (int j = 0; j < mask_width; j++) {\n",
        "        if (start >= 0 && start < width) {\n",
        "            pval += N[start + j] * M[j];\n",
        "        }\n",
        "    }\n",
        "    P[i] = pval;\n",
        "}\n",
        "\n",
        "void performConvolution(int* N, int* M, int* P, int width, int mask_width) {\n",
        "    int *d_N, *d_M, *d_P;\n",
        "    int size = width * sizeof(int);\n",
        "\n",
        "    cudaMalloc((void**)&d_N, size);\n",
        "    cudaMalloc((void**)&d_M, mask_width * sizeof(int));\n",
        "    cudaMalloc((void**)&d_P, size);\n",
        "\n",
        "    cudaMemcpy(d_N, N, size, cudaMemcpyHostToDevice);\n",
        "    cudaMemcpy(d_M, M, mask_width * sizeof(int), cudaMemcpyHostToDevice);\n",
        "\n",
        "    int gridSize = (width + 255) / 256;  // Assuming 256 threads per block\n",
        "    int blockSize = 256;\n",
        "\n",
        "    convolutionKernel<<<gridSize, blockSize>>>(d_N, d_M, d_P, width, mask_width);\n",
        "\n",
        "    cudaMemcpy(P, d_P, size, cudaMemcpyDeviceToHost);\n",
        "\n",
        "    cudaFree(d_N);\n",
        "    cudaFree(d_M);\n",
        "    cudaFree(d_P);\n",
        "}\n",
        "\n",
        "int main() {\n",
        "    int width, mask_width;\n",
        "    printf(\"Enter the width:\\n\");\n",
        "    scanf(\"%d\", &width);\n",
        "    printf(\"Enter the mask width of the array:\\n\");\n",
        "    scanf(\"%d\", &mask_width);\n",
        "\n",
        "    int* N = (int*)malloc(sizeof(int) * width);\n",
        "    int* M = (int*)malloc(sizeof(int) * mask_width);\n",
        "    int* P = (int*)malloc(sizeof(int) * width);\n",
        "\n",
        "    printf(\"Enter the elements in the array:\\n\");\n",
        "    for (int i = 0; i < width; i++)\n",
        "        scanf(\"%d\", &N[i]);\n",
        "    printf(\"Enter the elements in the mask:\\n\");\n",
        "    for (int i = 0; i < mask_width; i++)\n",
        "        scanf(\"%d\", &M[i]);\n",
        "\n",
        "    performConvolution(N, M, P, width, mask_width);\n",
        "\n",
        "    printf(\"Result:\\n\");\n",
        "    for (int i = 0; i < width; i++) {\n",
        "        printf(\"%d \", P[i]);\n",
        "    }\n",
        "\n",
        "    free(N);\n",
        "    free(M);\n",
        "    free(P);\n",
        "\n",
        "    return 0;\n",
        "}\n"
      ],
      "metadata": {
        "colab": {
          "base_uri": "https://localhost:8080/",
          "height": 35
        },
        "id": "RP-oCTGmra2r",
        "outputId": "75f1298c-cd11-4b9d-dc9d-4f395feaa0fd"
      },
      "execution_count": null,
      "outputs": [
        {
          "output_type": "execute_result",
          "data": {
            "text/plain": [
              "'File written in /content/src/prg1.cu'"
            ],
            "application/vnd.google.colaboratory.intrinsic+json": {
              "type": "string"
            }
          },
          "metadata": {},
          "execution_count": 6
        }
      ]
    },
    {
      "cell_type": "code",
      "source": [
        "!nvcc /content/src/prg1.cu -o /content/src/prg1"
      ],
      "metadata": {
        "id": "h6J1sJglr2Gs"
      },
      "execution_count": null,
      "outputs": []
    },
    {
      "cell_type": "code",
      "source": [
        "!/content/src/prg1"
      ],
      "metadata": {
        "colab": {
          "base_uri": "https://localhost:8080/"
        },
        "id": "Rs1vX9hesIL_",
        "outputId": "ce419107-28a3-4461-c7dc-1aa16ae7a5b6"
      },
      "execution_count": null,
      "outputs": [
        {
          "output_type": "stream",
          "name": "stdout",
          "text": [
            "Enter the width:\n",
            "1\n",
            "Enter the mask width of the array:\n",
            "1\n",
            "Enter the elements in the array:\n",
            "1\n",
            "Enter the elements in the mask:\n",
            "1\n",
            "Result:\n",
            "1 "
          ]
        }
      ]
    },
    {
      "cell_type": "code",
      "source": [
        "%%cuda --name prg2.cu\n",
        "#include<cuda_runtime.h>\n",
        "#include<stdio.h>\n",
        "#include<stdlib.h>\n",
        "__global__ void rgbtogray(unsigned char* grayImg,unsigned char* rgbImg,int height,int width){\n",
        "    int col = threadIdx.x + blockDim.x*blockIdx.x;\n",
        "    int row = threadIdx.y + blockDim.y*blockIdx.y;\n",
        "    if (row < height && col < width){\n",
        "        int grayOffset = row*width + col;\n",
        "        int rbgOffset = grayOffset*3;\n",
        "        unsigned char r = rgbImg[rbgOffset];\n",
        "        unsigned char g = rgbImg[rbgOffset + 1];\n",
        "        unsigned char b = rgbImg[rbgOffset + 2];\n",
        "        grayImg[grayOffset] = 0.21f * r + 0.72f * g + 0.07f * b;\n",
        "    }\n",
        "}\n",
        "\n",
        "void RgbtoGray(unsigned char* grayImg,unsigned char* rgbImg,int height,int width){\n",
        "    int rgb_size = height*width*3*sizeof(unsigned char);\n",
        "    int gray_size = height*width*sizeof(unsigned char);\n",
        "    unsigned char* d_rgb, *d_gray;\n",
        "    for (int i = 0; i < width*height*3; i++)\n",
        "        rgbImg[i] = (i % 256);\n",
        "\n",
        "    printf(\"Original values:\\n\");\n",
        "    for (int i = 0; i < height; i++){\n",
        "        for (int j = 0; j < width; j++){\n",
        "            int idx = i*width + j;\n",
        "            printf(\"(%u %u %u) \", rgbImg[idx], rgbImg[idx + 1],rgbImg[idx + 2]);\n",
        "        }\n",
        "        printf(\"\\n\");\n",
        "    }\n",
        "\n",
        "    cudaMalloc((void**)&d_gray,gray_size);\n",
        "    cudaMalloc((void**)&d_rgb,rgb_size);\n",
        "    cudaMemcpy(d_rgb,rgbImg,rgb_size,cudaMemcpyHostToDevice);\n",
        "\n",
        "    dim3 blockSize(32,32);\n",
        "    dim3 gridSize((width + blockSize.x - 1)/blockSize.x,(height + blockSize.y - 1)/blockSize.y);\n",
        "    rgbtogray<<<gridSize,blockSize>>>(d_gray,d_rgb,height,width);\n",
        "    cudaMemcpy(grayImg,d_gray,gray_size,cudaMemcpyDeviceToHost);\n",
        "    printf(\"Converted grayscale values:\\n\");\n",
        "    for (int i = 0; i < height; i++){\n",
        "        for (int j = 0; j < width; j++){\n",
        "            int idx = i*width + j;\n",
        "            printf(\"%u \",grayImg[idx]);\n",
        "        }\n",
        "        printf(\"\\n\");\n",
        "    }\n",
        "}\n",
        "\n",
        "int main(){\n",
        "    int height = 3, width = 3;\n",
        "    unsigned char* gray = (unsigned char*)malloc(height*width*sizeof(unsigned char));\n",
        "    unsigned char* rgb = (unsigned char*)malloc(height*width*3*sizeof(unsigned char));\n",
        "    RgbtoGray(gray,rgb,height,width);\n",
        "    return 0;\n",
        "}\n"
      ],
      "metadata": {
        "colab": {
          "base_uri": "https://localhost:8080/",
          "height": 35
        },
        "id": "yzy1nRFRyese",
        "outputId": "5469f114-fcad-4b14-bbd2-386bf8a9fc63"
      },
      "execution_count": null,
      "outputs": [
        {
          "output_type": "execute_result",
          "data": {
            "text/plain": [
              "'File written in /content/src/prg2.cu'"
            ],
            "application/vnd.google.colaboratory.intrinsic+json": {
              "type": "string"
            }
          },
          "metadata": {},
          "execution_count": 9
        }
      ]
    },
    {
      "cell_type": "code",
      "source": [
        "!nvcc /content/src/prg2.cu -o /content/src/prg2"
      ],
      "metadata": {
        "id": "Ou4VJ0PLArDb"
      },
      "execution_count": null,
      "outputs": []
    },
    {
      "cell_type": "code",
      "source": [
        "!/content/src/prg2"
      ],
      "metadata": {
        "colab": {
          "base_uri": "https://localhost:8080/"
        },
        "id": "eJ1yLS-5BOir",
        "outputId": "bbb79c74-7796-4a68-97bf-92e0c6efe628"
      },
      "execution_count": null,
      "outputs": [
        {
          "output_type": "stream",
          "name": "stdout",
          "text": [
            "Original values:\n",
            "(0 1 2) (1 2 3) (2 3 4) \n",
            "(3 4 5) (4 5 6) (5 6 7) \n",
            "(6 7 8) (7 8 9) (8 9 10) \n",
            "Converted grayscale values:\n",
            "0 3 6 \n",
            "9 12 15 \n",
            "18 21 24 \n"
          ]
        }
      ]
    },
    {
      "cell_type": "code",
      "source": [
        "%%cuda --name prg3.cu\n",
        "\n",
        "#include <stdio.h>\n",
        "#include <stdlib.h>\n",
        "#include <cuda_runtime.h>\n",
        "\n",
        "// Define the kernel to perform matrix multiplication row-wise\n",
        "__global__ void multiply_rowWise(int* a, int* b, int* c, int wa, int wb) {\n",
        "    int ridA = threadIdx.x;\n",
        "    int sum;\n",
        "\n",
        "    for (int cidB = 0; cidB < wb; cidB++) {\n",
        "        sum = 0;\n",
        "\n",
        "        for (int k = 0; k < wa; k++) {\n",
        "            sum += (a[ridA * wa + k] * b[k * wb + cidB]);\n",
        "        }\n",
        "\n",
        "        c[ridA * wb + cidB] = sum;\n",
        "    }\n",
        "}\n",
        "\n",
        "// Define the kernel to perform matrix multiplication column-wise\n",
        "__global__ void multiply_Colwise(int* a, int* b, int* c, int ha, int wa) {\n",
        "    int cidB = threadIdx.x;\n",
        "    int wb = blockDim.x; // Corrected variable declaration\n",
        "\n",
        "    for (int ridA = 0; ridA < ha; ridA++) {\n",
        "        int sum = 0; // Initialize 'sum' to 0 for each column\n",
        "\n",
        "        for (int k = 0; k < wa; k++) {\n",
        "            sum += (a[ridA * wa + k] * b[k * wb + cidB]); // Perform element-wise multiplication and accumulate the result\n",
        "        }\n",
        "\n",
        "        c[ridA * wb + cidB] = sum; // Store the accumulated 'sum' in the corresponding position of matrix 'c'\n",
        "    }\n",
        "}\n",
        "\n",
        "// Define the kernel to perform matrix multiplication\n",
        "__global__ void multiplyKernel(int* a, int* b, int* c, int wa, int wb) {\n",
        "    int ridA = threadIdx.y; // Use threadIdx.y for rows\n",
        "    int cidB = threadIdx.x; // Use threadIdx.x for columns\n",
        "\n",
        "    int sum = 0;\n",
        "\n",
        "    for (int k = 0; k < wa; k++) {\n",
        "        sum += (a[ridA * wa + k] * b[k * wb + cidB]);\n",
        "    }\n",
        "\n",
        "    c[ridA * wb + cidB] = sum;\n",
        "}\n",
        "\n",
        "// Function to perform matrix multiplication\n",
        "void Multiply(int* a, int* b, int* c, int wa, int wb, int ha) {\n",
        "    int* d_A, * d_B, * d_C; // Declare device memory pointers\n",
        "\n",
        "    // Calculate the required memory size\n",
        "    int size = ha * wb * sizeof(int);\n",
        "\n",
        "    // Allocate device memory\n",
        "    cudaMalloc((void**)&d_A, size);\n",
        "    cudaMalloc((void**)&d_B, size);\n",
        "    cudaMalloc((void**)&d_C, size);\n",
        "\n",
        "    // Copy data from host to device\n",
        "    cudaMemcpy(d_A, a, size, cudaMemcpyHostToDevice);\n",
        "    cudaMemcpy(d_B, b, size, cudaMemcpyHostToDevice);\n",
        "\n",
        "    // Launch the kernel to perform matrix multiplication row-wise\n",
        "    multiply_rowWise<<<1, ha>>>(d_A, d_B, d_C, wa, wb);\n",
        "\n",
        "    // Copy the result from device to host\n",
        "    cudaMemcpy(c, d_C, size, cudaMemcpyDeviceToHost);\n",
        "\n",
        "    printf(\"Result of row-wise matrix multiplication:\\n\");\n",
        "    for (int i = 0; i < ha; i++) {\n",
        "        for (int j = 0; j < wb; j++) {\n",
        "            printf(\"%d \", c[i * wb + j]);\n",
        "        }\n",
        "        printf(\"\\n\");\n",
        "    }\n",
        "\n",
        "    // Launch the kernel to perform matrix multiplication column-wise\n",
        "    multiply_Colwise<<<1, wb>>>(d_A, d_B, d_C, ha, wa);\n",
        "\n",
        "    // Copy the result from device to host\n",
        "    cudaMemcpy(c, d_C, size, cudaMemcpyDeviceToHost);\n",
        "\n",
        "    printf(\"\\nResult of column-wise matrix multiplication:\\n\");\n",
        "    for (int i = 0; i < ha; i++) {\n",
        "        for (int j = 0; j < wb; j++) {\n",
        "            printf(\"%d \", c[i * wb + j]);\n",
        "        }\n",
        "        printf(\"\\n\");\n",
        "    }\n",
        "\n",
        "    // Launch the kernel to perform matrix multiplication\n",
        "    dim3 blockSize(wb, ha);\n",
        "    multiplyKernel<<<1, blockSize>>>(d_A, d_B, d_C, wa, wb);\n",
        "\n",
        "    // Copy the result from device to host\n",
        "    cudaMemcpy(c, d_C, size, cudaMemcpyDeviceToHost);\n",
        "\n",
        "    printf(\"\\nResult of matrix multiplication element-wise:\\n\");\n",
        "    for (int i = 0; i < ha; i++) {\n",
        "        for (int j = 0; j < wb; j++) {\n",
        "            printf(\"%d \", c[i * wb + j]);\n",
        "        }\n",
        "        printf(\"\\n\");\n",
        "    }\n",
        "\n",
        "    // Free device memory\n",
        "    cudaFree(d_A);\n",
        "    cudaFree(d_B);\n",
        "    cudaFree(d_C);\n",
        "}\n",
        "\n",
        "int main() {\n",
        "    int* a, * b, * c;\n",
        "    int wa, ha, wb, hb;\n",
        "\n",
        "    printf(\"Enter the dimensions of matrix A (ha wa):\\n\");\n",
        "    scanf(\"%d %d\", &ha, &wa);\n",
        "    printf(\"Enter the dimensions of matrix B (hb wb):\\n\");\n",
        "    scanf(\"%d %d\", &hb, &wb);\n",
        "\n",
        "    // Check if matrix dimensions are compatible for multiplication\n",
        "    if (wa != hb) {\n",
        "        printf(\"Matrix dimensions are not compatible for multiplication.\\n\");\n",
        "        return 1;\n",
        "    }\n",
        "\n",
        "    // Allocate memory for matrices a, b, and c\n",
        "    a = (int*)malloc(ha * wa * sizeof(int));\n",
        "    b = (int*)malloc(hb * wb * sizeof(int));\n",
        "    c = (int*)malloc(ha * wb * sizeof(int));\n",
        "\n",
        "    printf(\"Enter the elements of matrix A:\\n\");\n",
        "    for (int i = 0; i < ha; i++) {\n",
        "        for (int j = 0; j < wa; j++) {\n",
        "            scanf(\"%d\", &a[i * wa + j]);\n",
        "        }\n",
        "    }\n",
        "\n",
        "    printf(\"Enter the elements of matrix B:\\n\");\n",
        "    for (int i = 0; i < hb; i++) {\n",
        "        for (int j = 0; j < wb; j++) {\n",
        "            scanf(\"%d\", &b[i * wb + j]);\n",
        "        }\n",
        "    }\n",
        "\n",
        "    // Call the Multiply function to perform matrix multiplication\n",
        "    Multiply(a, b, c, wa, wb, ha);\n",
        "\n",
        "    // Free host memory\n",
        "    free(a);\n",
        "    free(b);\n",
        "    free(c);\n",
        "\n",
        "    return 0;\n",
        "}\n"
      ],
      "metadata": {
        "colab": {
          "base_uri": "https://localhost:8080/",
          "height": 35
        },
        "id": "bn_eIMxaOL3S",
        "outputId": "0b76f75c-0c54-4a80-aa15-a8f65d9088ca"
      },
      "execution_count": null,
      "outputs": [
        {
          "output_type": "execute_result",
          "data": {
            "text/plain": [
              "'File written in /content/src/prg3.cu'"
            ],
            "application/vnd.google.colaboratory.intrinsic+json": {
              "type": "string"
            }
          },
          "metadata": {},
          "execution_count": 14
        }
      ]
    },
    {
      "cell_type": "code",
      "source": [
        "!nvcc /content/src/prg3.cu -o /content/src/prg3"
      ],
      "metadata": {
        "id": "PINMemn5tNSh"
      },
      "execution_count": null,
      "outputs": []
    },
    {
      "cell_type": "code",
      "source": [
        "!/content/src/prg3"
      ],
      "metadata": {
        "colab": {
          "base_uri": "https://localhost:8080/"
        },
        "id": "duaan8CLtxH7",
        "outputId": "bff6cd18-18a8-4e12-8b9f-18de8ce851a8"
      },
      "execution_count": null,
      "outputs": [
        {
          "output_type": "stream",
          "name": "stdout",
          "text": [
            "Enter the dimensions of matrix A (ha wa):\n",
            "3 3\n",
            "Enter the dimensions of matrix B (hb wb):\n",
            "3 3\n",
            "Enter the elements of matrix A:\n",
            "1 2 3\n",
            "4 5 6\n",
            "7 8 9\n",
            "Enter the elements of matrix B:\n",
            "1 2 3 \n",
            "4 5 6\n",
            "7 8 9\n",
            "Result of row-wise matrix multiplication:\n",
            "30 36 42 \n",
            "66 81 96 \n",
            "102 126 150 \n",
            "\n",
            "Result of column-wise matrix multiplication:\n",
            "30 36 42 \n",
            "66 81 96 \n",
            "102 126 150 \n",
            "\n",
            "Result of matrix multiplication element-wise:\n",
            "30 36 42 \n",
            "66 81 96 \n",
            "102 126 150 \n"
          ]
        }
      ]
    }
  ]
}